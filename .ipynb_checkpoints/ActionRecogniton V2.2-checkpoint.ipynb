{
 "cells": [
  {
   "cell_type": "markdown",
   "metadata": {},
   "source": [
    "一、import some package"
   ]
  },
  {
   "cell_type": "code",
   "execution_count": 1,
   "metadata": {},
   "outputs": [
    {
     "ename": "ModuleNotFoundError",
     "evalue": "No module named 'keras'",
     "output_type": "error",
     "traceback": [
      "\u001b[1;31m---------------------------------------------------------------------------\u001b[0m",
      "\u001b[1;31mModuleNotFoundError\u001b[0m                       Traceback (most recent call last)",
      "\u001b[1;32m<ipython-input-1-8fd082e93603>\u001b[0m in \u001b[0;36m<module>\u001b[1;34m()\u001b[0m\n\u001b[0;32m      1\u001b[0m \u001b[1;32mfrom\u001b[0m \u001b[0m__future__\u001b[0m \u001b[1;32mimport\u001b[0m \u001b[0mprint_function\u001b[0m\u001b[1;33m\u001b[0m\u001b[0m\n\u001b[1;32m----> 2\u001b[1;33m \u001b[1;32mfrom\u001b[0m \u001b[0mkeras\u001b[0m\u001b[1;33m.\u001b[0m\u001b[0mdatasets\u001b[0m \u001b[1;32mimport\u001b[0m \u001b[0mcifar10\u001b[0m\u001b[1;33m\u001b[0m\u001b[0m\n\u001b[0m\u001b[0;32m      3\u001b[0m \u001b[1;32mfrom\u001b[0m \u001b[0mkeras\u001b[0m\u001b[1;33m.\u001b[0m\u001b[0mpreprocessing\u001b[0m\u001b[1;33m.\u001b[0m\u001b[0mimage\u001b[0m \u001b[1;32mimport\u001b[0m \u001b[0mImageDataGenerator\u001b[0m\u001b[1;33m\u001b[0m\u001b[0m\n\u001b[0;32m      4\u001b[0m \u001b[1;32mfrom\u001b[0m \u001b[0mkeras\u001b[0m\u001b[1;33m.\u001b[0m\u001b[0mutils\u001b[0m \u001b[1;32mimport\u001b[0m \u001b[0mnp_utils\u001b[0m\u001b[1;33m,\u001b[0m\u001b[0mplot_model\u001b[0m\u001b[1;33m\u001b[0m\u001b[0m\n\u001b[0;32m      5\u001b[0m \u001b[1;32mfrom\u001b[0m \u001b[0mkeras\u001b[0m\u001b[1;33m.\u001b[0m\u001b[0mcallbacks\u001b[0m \u001b[1;32mimport\u001b[0m \u001b[0mReduceLROnPlateau\u001b[0m\u001b[1;33m,\u001b[0m \u001b[0mCSVLogger\u001b[0m\u001b[1;33m,\u001b[0m \u001b[0mEarlyStopping\u001b[0m\u001b[1;33m,\u001b[0m\u001b[0mModelCheckpoint\u001b[0m\u001b[1;33m\u001b[0m\u001b[0m\n",
      "\u001b[1;31mModuleNotFoundError\u001b[0m: No module named 'keras'"
     ]
    }
   ],
   "source": [
    "from __future__ import print_function\n",
    "from keras.datasets import cifar10\n",
    "from keras.preprocessing.image import ImageDataGenerator\n",
    "from keras.utils import np_utils,plot_model\n",
    "from keras.callbacks import ReduceLROnPlateau, CSVLogger, EarlyStopping,ModelCheckpoint\n",
    "from keras.models import load_model\n",
    "import matplotlib.pyplot as plt\n",
    "import matplotlib.image as mping\n",
    "import numpy as np\n",
    "import resnet\n",
    "import os\n",
    "import pandas as pd\n",
    "import random\n",
    "from skimage import data, exposure, img_as_float\n",
    "from skimage.transform import resize\n",
    "from skimage.io import imread, imshow, imread_collection, concatenate_images\n",
    "from sklearn.cross_validation import train_test_split\n"
   ]
  },
  {
   "cell_type": "markdown",
   "metadata": {},
   "source": [
    "二、读取图片进入X,Y"
   ]
  },
  {
   "cell_type": "code",
   "execution_count": null,
   "metadata": {
    "scrolled": false
   },
   "outputs": [],
   "source": [
    "\n",
    "\n",
    "A=60\n",
    "B=58\n",
    "C=55\n",
    "D=62\n",
    "E=60\n",
    "F=71\n",
    "G=60\n",
    "H=55\n",
    "J=67\n",
    "K=52\n",
    "L=70\n",
    "M=61\n",
    "N=66\n",
    "O=28\n",
    "P=37\n",
    "\n",
    "T=25\n",
    "A=T\n",
    "B=T\n",
    "C=T\n",
    "D=T\n",
    "E=T\n",
    "F=T\n",
    "G=T\n",
    "H=T\n",
    "J=T\n",
    "K=T\n",
    "L=T\n",
    "M=T\n",
    "N=T\n",
    "O=T\n",
    "P=T\n",
    "\n",
    "resize_rate=2\n",
    "nb_classes = 15\n",
    "dataset_num=A+B+C+D+E+F+G+H+J+K+L+M+N+O+P\n",
    "input_img_rows=2448\n",
    "input_img_cols=3264\n",
    "img_rows=256\n",
    "img_cols=256\n",
    "img_channels=3\n",
    "X=np.zeros([dataset_num,img_rows,img_cols,img_channels])\n",
    "Y=np.zeros([dataset_num,nb_classes])\n",
    "\n",
    "for i in range(A):\n",
    "    imagepath=r'datasets2//A'+str(i+1)+r'.jpg'\n",
    "    image_readin=mping.imread(imagepath)\n",
    "    print(imagepath)\n",
    "    image=image_readin[:,408:408+input_img_rows,:]\n",
    "    image=resize(image, (img_rows, img_cols), mode='reflect')\n",
    "    X[i,:,:,:]=image\n",
    "    Y[i,0]=1\n",
    "for i in range(B):\n",
    "    imagepath=r'datasets2//B'+str(i+1)+r'.jpg'\n",
    "    image_readin=mping.imread(imagepath)\n",
    "    print(imagepath)\n",
    "    image=image_readin[:,408:408+input_img_rows,:]\n",
    "    image=resize(image, (img_rows, img_cols), mode='reflect')\n",
    "    X[A+i,:,:,:]=image\n",
    "    Y[A+i,1]=1\n",
    "for i in range(C):\n",
    "    imagepath=r'datasets2//C'+str(i+1)+r'.jpg'\n",
    "    image_readin=mping.imread(imagepath)\n",
    "    print(imagepath)\n",
    "    image=image_readin[:,408:408+input_img_rows,:]\n",
    "    image=resize(image, (img_rows, img_cols), mode='reflect')\n",
    "    X[A+B+i,:,:,:]=image\n",
    "    Y[A+B+i,1]=1\n",
    "for i in range(D):\n",
    "    imagepath=r'datasets2//D'+str(i+1)+r'.jpg'\n",
    "    image_readin=mping.imread(imagepath)\n",
    "    print(imagepath)\n",
    "    image=image_readin[:,408:408+input_img_rows,:]\n",
    "    image=resize(image, (img_rows, img_cols), mode='reflect')\n",
    "    X[A+B+C+i,:,:,:]=image\n",
    "    Y[A+B+C+i,1]=1\n",
    "for i in range(E):\n",
    "    imagepath=r'datasets2//E'+str(i+1)+r'.jpg'\n",
    "    image_readin=mping.imread(imagepath)\n",
    "    print(imagepath)\n",
    "    image=image_readin[:,408:408+input_img_rows,:]\n",
    "    image=resize(image, (img_rows, img_cols), mode='reflect')\n",
    "    X[A+B+C+D+i,:,:,:]=image\n",
    "    Y[A+B+C+D+i,1]=1\n",
    "for i in range(F):\n",
    "    imagepath=r'datasets2//F'+str(i+1)+r'.jpg'\n",
    "    image_readin=mping.imread(imagepath)\n",
    "    print(imagepath)\n",
    "    image=image_readin[:,408:408+input_img_rows,:]\n",
    "    image=resize(image, (img_rows, img_cols), mode='reflect')\n",
    "    X[A+B+C+D+E+i,:,:,:]=image\n",
    "    Y[A+B+C+D+E+i,1]=1\n",
    "for i in range(G):\n",
    "    imagepath=r'datasets2//G'+str(i+1)+r'.jpg'\n",
    "    image_readin=mping.imread(imagepath)\n",
    "    print(imagepath)\n",
    "    image=image_readin[:,408:408+input_img_rows,:]\n",
    "    image=resize(image, (img_rows, img_cols), mode='reflect')\n",
    "    X[A+B+C+D+E+F+i,:,:,:]=image\n",
    "    Y[A+B+C+D+E+F+i,1]=1\n",
    "for i in range(H):\n",
    "    imagepath=r'datasets2//H'+str(i+1)+r'.jpg'\n",
    "    image_readin=mping.imread(imagepath)\n",
    "    print(imagepath)\n",
    "    image=image_readin[:,408:408+input_img_rows,:]\n",
    "    image=resize(image, (img_rows, img_cols), mode='reflect')\n",
    "    X[A+B+C+D+E+F+G+i,:,:,:]=image\n",
    "    Y[A+B+C+D+E+F+G+i,1]=1\n",
    "for i in range(J):\n",
    "    imagepath=r'datasets2//J'+str(i+1)+r'.jpg'\n",
    "    image_readin=mping.imread(imagepath)\n",
    "    print(imagepath)\n",
    "    image=image_readin[:,408:408+input_img_rows,:]\n",
    "    image=resize(image, (img_rows, img_cols), mode='reflect')\n",
    "    X[A+B+C+D+E+F+G+H+i,:,:,:]=image\n",
    "    Y[A+B+C+D+E+F+G+H+i,1]=1\n",
    "for i in range(K):\n",
    "    imagepath=r'datasets2//K'+str(i+1)+r'.jpg'\n",
    "    image_readin=mping.imread(imagepath)\n",
    "    print(imagepath)\n",
    "    image=image_readin[:,408:408+input_img_rows,:]\n",
    "    image=resize(image, (img_rows, img_cols), mode='reflect')\n",
    "    X[A+B+C+D+E+F+G+H+J+i,:,:,:]=image\n",
    "    Y[A+B+C+D+E+F+G+H+J+i,1]=1\n",
    "for i in range(L):\n",
    "    imagepath=r'datasets2//L'+str(i+1)+r'.jpg'\n",
    "    image_readin=mping.imread(imagepath)\n",
    "    print(imagepath)\n",
    "    image=image_readin[:,408:408+input_img_rows,:]\n",
    "    image=resize(image, (img_rows, img_cols), mode='reflect')\n",
    "    X[A+B+C+D+E+F+G+H+J+K+i,:,:,:]=image\n",
    "    Y[A+B+C+D+E+F+G+H+J+K+i,1]=1\n",
    "for i in range(M):\n",
    "    imagepath=r'datasets2//M'+str(i+1)+r'.jpg'\n",
    "    image_readin=mping.imread(imagepath)\n",
    "    print(imagepath)\n",
    "    image=image_readin[:,408:408+input_img_rows,:]\n",
    "    image=resize(image, (img_rows, img_cols), mode='reflect')\n",
    "    X[A+B+C+D+E+F+G+H+J+K+L+i,:,:,:]=image\n",
    "    Y[A+B+C+D+E+F+G+H+J+K+L+i,1]=1\n",
    "for i in range(N):\n",
    "    imagepath=r'datasets2//N'+str(i+1)+r'.jpg'\n",
    "    image_readin=mping.imread(imagepath)\n",
    "    print(imagepath)\n",
    "    image=image_readin[:,408:408+input_img_rows,:]\n",
    "    image=resize(image, (img_rows, img_cols), mode='reflect')\n",
    "    X[A+B+C+D+E+F+G+H+J+K+L+M+i,:,:,:]=image\n",
    "    Y[A+B+C+D+E+F+G+H+J+K+L+M+i,1]=1\n",
    "for i in range(O):\n",
    "    imagepath=r'datasets2//O'+str(i+1)+r'.jpg'\n",
    "    image_readin=mping.imread(imagepath)\n",
    "    print(imagepath)\n",
    "    image=image_readin[:,408:408+input_img_rows,:]\n",
    "    image=resize(image, (img_rows, img_cols), mode='reflect')\n",
    "    X[A+B+C+D+E+F+G+H+J+K+L+M+N+i,:,:,:]=image\n",
    "    Y[A+B+C+D+E+F+G+H+J+K+L+M+N+i,1]=1\n",
    "for i in range(P):\n",
    "    imagepath=r'datasets2//P'+str(i+1)+r'.jpg'\n",
    "    image_readin=mping.imread(imagepath)\n",
    "    print(imagepath)\n",
    "    image=image_readin[:,408:408+input_img_rows,:]\n",
    "    image=resize(image, (img_rows, img_cols), mode='reflect')\n",
    "    X[A+B+C+D+E+F+G+H+J+K+L+M+N+O+i,:,:,:]=image\n",
    "    Y[A+B+C+D+E+F+G+H+J+K+L+M+N+O+i,1]=1\n",
    "image_sample=X[2]\n",
    "imshow(image_sample)"
   ]
  },
  {
   "cell_type": "markdown",
   "metadata": {},
   "source": [
    "三、网络的一些超参数"
   ]
  },
  {
   "cell_type": "code",
   "execution_count": null,
   "metadata": {},
   "outputs": [],
   "source": [
    "lr_reducer = ReduceLROnPlateau(factor=np.sqrt(0.1), cooldown=0, patience=7, min_lr=0.5e-6)\n",
    "early_stopper = EarlyStopping(min_delta=0.0005, patience=40)\n",
    "csv_logger = CSVLogger('imagemodel2.2.csv')\n",
    "checkpointer = ModelCheckpoint('imagemodel2.2.h5', verbose=1, save_best_only=True)\n",
    "batch_size = 10\n",
    "nb_epoch = 300\n",
    "data_augmentation = False"
   ]
  },
  {
   "cell_type": "markdown",
   "metadata": {},
   "source": [
    "四、预处理，白化"
   ]
  },
  {
   "cell_type": "code",
   "execution_count": null,
   "metadata": {},
   "outputs": [],
   "source": [
    "X=X.astype('float32')\n",
    "mean_X=np.mean(X,axis=0)\n",
    "X -= mean_X  #白化，X减去所有数据的均值\n",
    "X /=128 #这样X大概就是在-1~1之间的分布了"
   ]
  },
  {
   "cell_type": "markdown",
   "metadata": {},
   "source": [
    "五、搭建网络模型，编译"
   ]
  },
  {
   "cell_type": "code",
   "execution_count": null,
   "metadata": {
    "scrolled": false
   },
   "outputs": [],
   "source": [
    "model = resnet.ResnetBuilder.build_resnet_34((img_channels, img_rows, img_cols), nb_classes)\n",
    "model.compile(loss='categorical_crossentropy',\n",
    "              optimizer='adam',\n",
    "              metrics=['accuracy'])\n",
    "model.summary()\n",
    "#plot_model(model, to_file='model V2.0.png')"
   ]
  },
  {
   "cell_type": "markdown",
   "metadata": {},
   "source": [
    "六、分割X={X_train,X_val}  Y={Y_train,Y_val}"
   ]
  },
  {
   "cell_type": "code",
   "execution_count": null,
   "metadata": {},
   "outputs": [],
   "source": [
    "X_train, X_val, Y_train, Y_val = train_test_split(X, Y, test_size=0.4, random_state=42)\n",
    "print(\"X_train.shape=\",X_train.shape)\n",
    "print(\"Y_train.shape=\",Y_train.shape)\n",
    "print(\"X_val.shape=\",X_val.shape)\n",
    "print(\"Y_val.shape=\",Y_val.shape)"
   ]
  },
  {
   "cell_type": "markdown",
   "metadata": {},
   "source": [
    "七、数据增强，训练"
   ]
  },
  {
   "cell_type": "code",
   "execution_count": null,
   "metadata": {},
   "outputs": [],
   "source": [
    "if not data_augmentation:\n",
    "    print('Not using data augmentation.')\n",
    "    model.fit(X_train, Y_train,\n",
    "              batch_size=batch_size,\n",
    "              epochs=nb_epoch,\n",
    "              verbose=1,\n",
    "              validation_data=(X_val, Y_val),\n",
    "              shuffle=True,\n",
    "              callbacks=[lr_reducer,checkpointer, early_stopper, csv_logger])\n",
    "else:\n",
    "    print('Using real-time data augmentation.')\n",
    "    # This will do preprocessing and realtime data augmentation:\n",
    "    datagen = ImageDataGenerator(\n",
    "        featurewise_center=False,  # set input mean to 0 over the dataset\n",
    "        samplewise_center=True,  # set each sample mean to 0\n",
    "        featurewise_std_normalization=False,  # divide inputs by std of the dataset\n",
    "        samplewise_std_normalization=True,  # divide each input by its std\n",
    "        zca_whitening=False,  # apply ZCA whitening\n",
    "        rotation_range=0, # randomly rotate images in the range (degrees, 0 to 180)\n",
    "        width_shift_range=False,  # randomly shift images horizontally (fraction of total width)\n",
    "        height_shift_range=False,  # randomly shift images vertically (fraction of total height)\n",
    "        horizontal_flip=False,  # randomly flip images\n",
    "        vertical_flip=False)  # randomly flip images\n",
    "\n",
    "    # Compute quantities required for featurewise normalization\n",
    "    # (std, mean, and principal components if ZCA whitening is applied).\n",
    "    datagen.fit(X_train)\n",
    "\n",
    "    # Fit the model on the batches generated by datagen.flow().\n",
    "    model.fit_generator(datagen.flow(X_train, Y_train, batch_size=batch_size),\n",
    "                        steps_per_epoch=X_train.shape[0] // batch_size,\n",
    "                        validation_data=(X_val, Y_val),\n",
    "                        epochs=nb_epoch, verbose=1, max_q_size=100,\n",
    "                        callbacks=[lr_reducer,checkpointer, early_stopper, csv_logger])\n"
   ]
  },
  {
   "cell_type": "markdown",
   "metadata": {},
   "source": [
    "八、测试"
   ]
  },
  {
   "cell_type": "code",
   "execution_count": null,
   "metadata": {},
   "outputs": [],
   "source": [
    "model = load_model('imagemodel2.1.h5')\n",
    "pred=model.predict(X_val[:10])\n",
    "print(pred[:10])\n",
    "print(Y_val[:10])"
   ]
  },
  {
   "cell_type": "markdown",
   "metadata": {},
   "source": [
    "相比如V1.0版本，这里把resnet18改成了resnet34"
   ]
  },
  {
   "cell_type": "code",
   "execution_count": null,
   "metadata": {},
   "outputs": [],
   "source": [
    "prediction=np.argmax(pred,1)\n",
    "print(prediction)\n",
    "print(np.argmax(Y_val,1))"
   ]
  }
 ],
 "metadata": {
  "kernelspec": {
   "display_name": "Python 3",
   "language": "python",
   "name": "python3"
  },
  "language_info": {
   "codemirror_mode": {
    "name": "ipython",
    "version": 3
   },
   "file_extension": ".py",
   "mimetype": "text/x-python",
   "name": "python",
   "nbconvert_exporter": "python",
   "pygments_lexer": "ipython3",
   "version": "3.6.3"
  }
 },
 "nbformat": 4,
 "nbformat_minor": 2
}
